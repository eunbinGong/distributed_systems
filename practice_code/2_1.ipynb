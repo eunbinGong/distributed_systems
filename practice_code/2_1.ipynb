{
 "cells": [
  {
   "cell_type": "code",
   "execution_count": null,
   "metadata": {},
   "outputs": [],
   "source": [
    "from socket import *\n",
    "\n",
    "# A simple server\n",
    "s = socket(AF_INET, SOCK_STREAM)\n",
    "(conn, addr) = s.accept() \n",
    "while True:\n",
    "    data = conn.recv(1024)\n",
    "    if not data: \n",
    "        break\n",
    "    conn.send(str(data)+'*')\n",
    "conn.close()"
   ]
  },
  {
   "cell_type": "code",
   "execution_count": null,
   "metadata": {},
   "outputs": [],
   "source": [
    "from sockect import *\n",
    "\n",
    "# A client\n",
    "s = socket(AF_INET, SOCK_STREAM)\n",
    "s.connect((HOST, PORT))\n",
    "s.send('Hello, world')\n",
    "data = s.recv(1024)\n",
    "print data\n",
    "s.close()"
   ]
  }
 ],
 "metadata": {
  "interpreter": {
   "hash": "1fa5b1395a0a4ddef51b00ab331cd3a77cd7c21e2466d9cd3f0fa6c5cbe4001e"
  },
  "kernelspec": {
   "display_name": "Python 3.6.13 64-bit ('tf2.4': conda)",
   "language": "python",
   "name": "python3"
  },
  "language_info": {
   "codemirror_mode": {
    "name": "ipython",
    "version": 3
   },
   "file_extension": ".py",
   "mimetype": "text/x-python",
   "name": "python",
   "nbconvert_exporter": "python",
   "pygments_lexer": "ipython3",
   "version": "3.6.13"
  },
  "orig_nbformat": 4
 },
 "nbformat": 4,
 "nbformat_minor": 2
}
